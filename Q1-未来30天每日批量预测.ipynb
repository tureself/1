{
 "cells": [
  {
   "cell_type": "code",
   "execution_count": 1,
   "id": "34978c5a-8620-4a59-8989-d67ff0b0856b",
   "metadata": {},
   "outputs": [
    {
     "data": {
      "text/html": [
       "<div>\n",
       "<style scoped>\n",
       "    .dataframe tbody tr th:only-of-type {\n",
       "        vertical-align: middle;\n",
       "    }\n",
       "\n",
       "    .dataframe tbody tr th {\n",
       "        vertical-align: top;\n",
       "    }\n",
       "\n",
       "    .dataframe thead th {\n",
       "        text-align: right;\n",
       "    }\n",
       "</style>\n",
       "<table border=\"1\" class=\"dataframe\">\n",
       "  <thead>\n",
       "    <tr style=\"text-align: right;\">\n",
       "      <th></th>\n",
       "      <th>分拣中心</th>\n",
       "      <th>日期</th>\n",
       "      <th>货量</th>\n",
       "    </tr>\n",
       "  </thead>\n",
       "  <tbody>\n",
       "    <tr>\n",
       "      <th>0</th>\n",
       "      <td>SC48</td>\n",
       "      <td>2023-09-05</td>\n",
       "      <td>723</td>\n",
       "    </tr>\n",
       "    <tr>\n",
       "      <th>1</th>\n",
       "      <td>SC48</td>\n",
       "      <td>2023-08-05</td>\n",
       "      <td>754</td>\n",
       "    </tr>\n",
       "    <tr>\n",
       "      <th>2</th>\n",
       "      <td>SC48</td>\n",
       "      <td>2023-09-08</td>\n",
       "      <td>819</td>\n",
       "    </tr>\n",
       "    <tr>\n",
       "      <th>3</th>\n",
       "      <td>SC48</td>\n",
       "      <td>2023-08-20</td>\n",
       "      <td>648</td>\n",
       "    </tr>\n",
       "    <tr>\n",
       "      <th>4</th>\n",
       "      <td>SC48</td>\n",
       "      <td>2023-08-30</td>\n",
       "      <td>683</td>\n",
       "    </tr>\n",
       "  </tbody>\n",
       "</table>\n",
       "</div>"
      ],
      "text/plain": [
       "   分拣中心         日期   货量\n",
       "0  SC48 2023-09-05  723\n",
       "1  SC48 2023-08-05  754\n",
       "2  SC48 2023-09-08  819\n",
       "3  SC48 2023-08-20  648\n",
       "4  SC48 2023-08-30  683"
      ]
     },
     "execution_count": 1,
     "metadata": {},
     "output_type": "execute_result"
    }
   ],
   "source": [
    "\n",
    "import pandas as pd\n",
    "\n",
    "modified_data = pd.read_excel('modified_data.xlsx')\n",
    "\n",
    "modified_data.head()\n"
   ]
  },
  {
   "cell_type": "code",
   "execution_count": 126,
   "id": "b111aa28-3948-4685-a15d-a8db69aefebe",
   "metadata": {},
   "outputs": [
    {
     "name": "stdout",
     "output_type": "stream",
     "text": [
      "Looking in indexes: https://pypi.tuna.tsinghua.edu.cn/simple\n",
      "Requirement already satisfied: sklearn in c:\\users\\stream\\appdata\\roaming\\spsspro\\spsspro\\lib\\python\\lib\\site-packages (0.0)\n",
      "Requirement already satisfied: scikit-learn in c:\\users\\stream\\appdata\\roaming\\spsspro\\spsspro\\lib\\python\\lib\\site-packages (from sklearn) (0.24.2)\n",
      "Requirement already satisfied: numpy>=1.13.3 in c:\\users\\stream\\appdata\\roaming\\spsspro\\spsspro\\lib\\python\\lib\\site-packages (from scikit-learn->sklearn) (1.19.5)\n",
      "Requirement already satisfied: scipy>=0.19.1 in c:\\users\\stream\\appdata\\roaming\\spsspro\\spsspro\\lib\\python\\lib\\site-packages (from scikit-learn->sklearn) (1.8.1)\n",
      "Requirement already satisfied: joblib>=0.11 in c:\\users\\stream\\appdata\\roaming\\spsspro\\spsspro\\lib\\python\\lib\\site-packages (from scikit-learn->sklearn) (1.3.1)\n",
      "Requirement already satisfied: threadpoolctl>=2.0.0 in c:\\users\\stream\\appdata\\roaming\\spsspro\\spsspro\\lib\\python\\lib\\site-packages (from scikit-learn->sklearn) (3.1.0)\n"
     ]
    },
    {
     "name": "stderr",
     "output_type": "stream",
     "text": [
      "\n",
      "[notice] A new release of pip is available: 23.2.1 -> 24.0\n",
      "[notice] To update, run: pyb.exe -m pip install --upgrade pip\n"
     ]
    },
    {
     "name": "stdout",
     "output_type": "stream",
     "text": [
      "^C\n"
     ]
    },
    {
     "name": "stderr",
     "output_type": "stream",
     "text": [
      "\n",
      "[notice] A new release of pip is available: 23.2.1 -> 24.0\n",
      "[notice] To update, run: pyb.exe -m pip install --upgrade pip\n",
      "\n",
      "[notice] A new release of pip is available: 23.2.1 -> 24.0\n",
      "[notice] To update, run: pyb.exe -m pip install --upgrade pip\n"
     ]
    },
    {
     "name": "stdout",
     "output_type": "stream",
     "text": [
      "Looking in indexes: https://pypi.tuna.tsinghua.edu.cn/simple\n",
      "Requirement already satisfied: xgboost in c:\\users\\stream\\appdata\\roaming\\spsspro\\spsspro\\lib\\python\\lib\\site-packages (1.5.1)\n",
      "Requirement already satisfied: numpy in c:\\users\\stream\\appdata\\roaming\\spsspro\\spsspro\\lib\\python\\lib\\site-packages (from xgboost) (1.19.5)\n",
      "Requirement already satisfied: scipy in c:\\users\\stream\\appdata\\roaming\\spsspro\\spsspro\\lib\\python\\lib\\site-packages (from xgboost) (1.8.1)\n",
      "Looking in indexes: https://pypi.tuna.tsinghua.edu.cn/simple\n",
      "Requirement already satisfied: lightgbm in c:\\users\\stream\\appdata\\roaming\\spsspro\\spsspro\\lib\\python\\lib\\site-packages (3.3.2)\n",
      "Requirement already satisfied: wheel in c:\\users\\stream\\appdata\\roaming\\spsspro\\spsspro\\lib\\python\\lib\\site-packages (from lightgbm) (0.37.1)\n",
      "Requirement already satisfied: numpy in c:\\users\\stream\\appdata\\roaming\\spsspro\\spsspro\\lib\\python\\lib\\site-packages (from lightgbm) (1.19.5)\n",
      "Requirement already satisfied: scipy in c:\\users\\stream\\appdata\\roaming\\spsspro\\spsspro\\lib\\python\\lib\\site-packages (from lightgbm) (1.8.1)\n",
      "Requirement already satisfied: scikit-learn!=0.22.0 in c:\\users\\stream\\appdata\\roaming\\spsspro\\spsspro\\lib\\python\\lib\\site-packages (from lightgbm) (0.24.2)\n",
      "Requirement already satisfied: joblib>=0.11 in c:\\users\\stream\\appdata\\roaming\\spsspro\\spsspro\\lib\\python\\lib\\site-packages (from scikit-learn!=0.22.0->lightgbm) (1.3.1)\n",
      "Requirement already satisfied: threadpoolctl>=2.0.0 in c:\\users\\stream\\appdata\\roaming\\spsspro\\spsspro\\lib\\python\\lib\\site-packages (from scikit-learn!=0.22.0->lightgbm) (3.1.0)\n"
     ]
    }
   ],
   "source": [
    "import sys\n",
    "!{sys.executable} -m pip install sklearn -i https://pypi.tuna.tsinghua.edu.cn/simple\n",
    "!{sys.executable} -m pip install xgboost -i https://pypi.tuna.tsinghua.edu.cn/simple\n",
    "!{sys.executable} -m pip install lightgbm -i https://pypi.tuna.tsinghua.edu.cn/simple"
   ]
  },
  {
   "cell_type": "code",
   "execution_count": 2,
   "id": "bbeeedb5-ad49-4f8d-8776-8e97fc3b3799",
   "metadata": {},
   "outputs": [
    {
     "name": "stderr",
     "output_type": "stream",
     "text": [
      "C:\\Users\\Stream\\AppData\\Roaming\\spsspro\\spsspro\\lib\\python\\lib\\site-packages\\xgboost\\compat.py:36: FutureWarning: pandas.Int64Index is deprecated and will be removed from pandas in a future version. Use pandas.Index with the appropriate dtype instead.\n",
      "  from pandas import MultiIndex, Int64Index\n"
     ]
    }
   ],
   "source": [
    "# 此处所引入的包大部分为下文机器学习算法\n",
    "import pandas as pd\n",
    "from numpy import *\n",
    "import numpy as np\n",
    "from sklearn.neural_network import MLPRegressor\n",
    "from sklearn.tree import DecisionTreeRegressor\n",
    "from sklearn.ensemble import RandomForestRegressor\n",
    "from sklearn.linear_model import LinearRegression\n",
    "\n",
    "import xgboost as xgb\n",
    "import lightgbm as lgb\n",
    "import numpy as np\n",
    "\n",
    "\n",
    "import matplotlib.pyplot as plt\n",
    "from sklearn.metrics import mean_absolute_error,r2_score\n",
    "\n",
    "import warnings\n",
    "warnings.filterwarnings(\"ignore\")\n",
    "from sklearn.model_selection import train_test_split\n",
    "def mape(actual, pred): \n",
    "    actual, pred = np.array(actual), np.array(pred)\n",
    "    return np.mean(np.abs((actual - pred) / actual)) \n",
    "\n",
    "\n",
    "\n"
   ]
  },
  {
   "cell_type": "code",
   "execution_count": 7,
   "id": "b17606ed-1e18-4a3c-a7a7-73c86dc3e6a1",
   "metadata": {},
   "outputs": [
    {
     "name": "stdout",
     "output_type": "stream",
     "text": [
      "SC48 :训练集平均绝对百分比误差:0.092\n",
      "SC61 :训练集平均绝对百分比误差:0.141\n",
      "SC63 :训练集平均绝对百分比误差:0.171\n",
      "SC54 :训练集平均绝对百分比误差:0.144\n",
      "SC68 :训练集平均绝对百分比误差:0.112\n",
      "SC44 :训练集平均绝对百分比误差:0.085\n",
      "SC15 :训练集平均绝对百分比误差:0.153\n",
      "SC66 :训练集平均绝对百分比误差:0.146\n",
      "SC9 :训练集平均绝对百分比误差:0.159\n",
      "SC53 :训练集平均绝对百分比误差:0.158\n",
      "SC38 :训练集平均绝对百分比误差:0.110\n",
      "SC20 :训练集平均绝对百分比误差:1.869\n",
      "SC39 :训练集平均绝对百分比误差:0.092\n",
      "SC47 :训练集平均绝对百分比误差:0.107\n",
      "SC8 :训练集平均绝对百分比误差:0.104\n",
      "SC43 :训练集平均绝对百分比误差:0.187\n",
      "SC52 :训练集平均绝对百分比误差:0.231\n",
      "SC31 :训练集平均绝对百分比误差:0.165\n",
      "SC21 :训练集平均绝对百分比误差:0.345\n",
      "SC49 :训练集平均绝对百分比误差:0.127\n",
      "SC37 :训练集平均绝对百分比误差:0.625\n",
      "SC29 :训练集平均绝对百分比误差:0.169\n",
      "SC5 :训练集平均绝对百分比误差:0.133\n",
      "SC23 :训练集平均绝对百分比误差:0.329\n",
      "SC16 :训练集平均绝对百分比误差:0.374\n",
      "SC36 :训练集平均绝对百分比误差:0.279\n",
      "SC57 :训练集平均绝对百分比误差:0.139\n",
      "SC2 :训练集平均绝对百分比误差:0.151\n",
      "SC12 :训练集平均绝对百分比误差:0.257\n",
      "SC18 :训练集平均绝对百分比误差:0.156\n",
      "SC19 :训练集平均绝对百分比误差:0.225\n",
      "SC58 :训练集平均绝对百分比误差:0.291\n",
      "SC27 :训练集平均绝对百分比误差:0.151\n",
      "SC1 :训练集平均绝对百分比误差:0.151\n",
      "SC46 :训练集平均绝对百分比误差:0.454\n",
      "SC34 :训练集平均绝对百分比误差:0.185\n",
      "SC14 :训练集平均绝对百分比误差:0.189\n",
      "SC51 :训练集平均绝对百分比误差:0.131\n",
      "SC26 :训练集平均绝对百分比误差:0.139\n",
      "SC32 :训练集平均绝对百分比误差:0.247\n",
      "SC24 :训练集平均绝对百分比误差:0.104\n",
      "SC4 :训练集平均绝对百分比误差:0.155\n",
      "SC28 :训练集平均绝对百分比误差:0.503\n",
      "SC41 :训练集平均绝对百分比误差:0.494\n",
      "SC17 :训练集平均绝对百分比误差:0.148\n",
      "SC40 :训练集平均绝对百分比误差:0.119\n",
      "SC7 :训练集平均绝对百分比误差:0.101\n",
      "SC60 :训练集平均绝对百分比误差:0.075\n",
      "SC10 :训练集平均绝对百分比误差:0.165\n",
      "SC35 :训练集平均绝对百分比误差:0.116\n",
      "SC3 :训练集平均绝对百分比误差:0.109\n",
      "SC30 :训练集平均绝对百分比误差:0.354\n",
      "SC55 :训练集平均绝对百分比误差:0.080\n",
      "SC6 :训练集平均绝对百分比误差:0.117\n",
      "SC22 :训练集平均绝对百分比误差:0.125\n",
      "SC56 :训练集平均绝对百分比误差:0.268\n",
      "SC25 :训练集平均绝对百分比误差:0.143\n"
     ]
    }
   ],
   "source": [
    "result=pd.DataFrame()\n",
    "aa=[]\n",
    "for k in modified_data['分拣中心'].unique():\n",
    "    dataset1=modified_data[modified_data['分拣中心']==k].sort_values(by='日期', ascending=True)\n",
    "    dataset1.reset_index(inplace=True,drop=True)\n",
    "    dataset1['Y']=dataset1['货量'].shift(1)\n",
    "    dataset1.dropna(inplace=True)\n",
    "\n",
    "    X=dataset1[['货量']].values.reshape(-1, 1) \n",
    "    Y=dataset1['Y'].values.reshape(-1, 1)\n",
    "    model=MLPRegressor().fit(X,Y)\n",
    "    print(k+\" :训练集平均绝对百分比误差:{:.3f}\".format(mape(model.predict(X),Y)))\n",
    "    # model = LinearRegression()\n",
    "    # model.fit(X, Y)\n",
    "    # print(\"训练集平均绝对百分比误差:{:.3f}\".format(mape(model.predict(X),Y)))\n",
    "\n",
    "    \n",
    "    \n",
    "    aa.append(mape(model.predict(X),Y))\n",
    "    future_predictions = []\n",
    "    last_input = X[-1]  # 最后一个时间步长的输入特征数据\n",
    "\n",
    "    for i in range(30):\n",
    "        # 使用模型预测下一个时间步长的货量\n",
    "        next_prediction = model.predict(last_input.reshape(1, -1))\n",
    "        future_predictions.append(next_prediction[0])\n",
    "\n",
    "        # 更新输入特征数据，将当前预测值加入到输入特征中\n",
    "        last_input = np.roll(last_input, -1)\n",
    "        last_input[-1] = next_prediction\n",
    "\n",
    "    temp=pd.DataFrame(future_predictions[-30:],columns=['货量'])\n",
    "    temp['日期']=range(1,31)\n",
    "    temp['分拣中心']=k\n",
    "    result=pd.concat([result,temp])\n",
    "    result.reset_index(drop=True,inplace=True)\n",
    "    \n"
   ]
  },
  {
   "cell_type": "code",
   "execution_count": 8,
   "id": "a75b97f6-7246-46db-b40d-9941186c5efd",
   "metadata": {},
   "outputs": [
    {
     "data": {
      "text/plain": [
       "0.22184720591158513"
      ]
     },
     "execution_count": 8,
     "metadata": {},
     "output_type": "execute_result"
    }
   ],
   "source": [
    "mean(aa)"
   ]
  },
  {
   "cell_type": "code",
   "execution_count": 9,
   "id": "9679ddb5-c28b-44ca-934d-1dc3a4fa752d",
   "metadata": {},
   "outputs": [],
   "source": [
    "result.to_excel('Q1_未来30天各分拣中心预测货量数据.xlsx',index=None)"
   ]
  },
  {
   "cell_type": "code",
   "execution_count": 10,
   "id": "a8bbe1db-481a-42fa-9754-bceccc6027e4",
   "metadata": {},
   "outputs": [
    {
     "data": {
      "text/html": [
       "<div>\n",
       "<style scoped>\n",
       "    .dataframe tbody tr th:only-of-type {\n",
       "        vertical-align: middle;\n",
       "    }\n",
       "\n",
       "    .dataframe tbody tr th {\n",
       "        vertical-align: top;\n",
       "    }\n",
       "\n",
       "    .dataframe thead th {\n",
       "        text-align: right;\n",
       "    }\n",
       "</style>\n",
       "<table border=\"1\" class=\"dataframe\">\n",
       "  <thead>\n",
       "    <tr style=\"text-align: right;\">\n",
       "      <th></th>\n",
       "      <th>货量</th>\n",
       "      <th>日期</th>\n",
       "      <th>分拣中心</th>\n",
       "    </tr>\n",
       "  </thead>\n",
       "  <tbody>\n",
       "    <tr>\n",
       "      <th>0</th>\n",
       "      <td>817.781638</td>\n",
       "      <td>1</td>\n",
       "      <td>SC48</td>\n",
       "    </tr>\n",
       "    <tr>\n",
       "      <th>1</th>\n",
       "      <td>816.782826</td>\n",
       "      <td>2</td>\n",
       "      <td>SC48</td>\n",
       "    </tr>\n",
       "    <tr>\n",
       "      <th>2</th>\n",
       "      <td>815.784013</td>\n",
       "      <td>3</td>\n",
       "      <td>SC48</td>\n",
       "    </tr>\n",
       "    <tr>\n",
       "      <th>3</th>\n",
       "      <td>814.785201</td>\n",
       "      <td>4</td>\n",
       "      <td>SC48</td>\n",
       "    </tr>\n",
       "    <tr>\n",
       "      <th>4</th>\n",
       "      <td>813.786388</td>\n",
       "      <td>5</td>\n",
       "      <td>SC48</td>\n",
       "    </tr>\n",
       "    <tr>\n",
       "      <th>...</th>\n",
       "      <td>...</td>\n",
       "      <td>...</td>\n",
       "      <td>...</td>\n",
       "    </tr>\n",
       "    <tr>\n",
       "      <th>1705</th>\n",
       "      <td>47469.576870</td>\n",
       "      <td>26</td>\n",
       "      <td>SC25</td>\n",
       "    </tr>\n",
       "    <tr>\n",
       "      <th>1706</th>\n",
       "      <td>47418.631676</td>\n",
       "      <td>27</td>\n",
       "      <td>SC25</td>\n",
       "    </tr>\n",
       "    <tr>\n",
       "      <th>1707</th>\n",
       "      <td>47367.686482</td>\n",
       "      <td>28</td>\n",
       "      <td>SC25</td>\n",
       "    </tr>\n",
       "    <tr>\n",
       "      <th>1708</th>\n",
       "      <td>47316.741287</td>\n",
       "      <td>29</td>\n",
       "      <td>SC25</td>\n",
       "    </tr>\n",
       "    <tr>\n",
       "      <th>1709</th>\n",
       "      <td>47265.796093</td>\n",
       "      <td>30</td>\n",
       "      <td>SC25</td>\n",
       "    </tr>\n",
       "  </tbody>\n",
       "</table>\n",
       "<p>1710 rows × 3 columns</p>\n",
       "</div>"
      ],
      "text/plain": [
       "                货量  日期  分拣中心\n",
       "0       817.781638   1  SC48\n",
       "1       816.782826   2  SC48\n",
       "2       815.784013   3  SC48\n",
       "3       814.785201   4  SC48\n",
       "4       813.786388   5  SC48\n",
       "...            ...  ..   ...\n",
       "1705  47469.576870  26  SC25\n",
       "1706  47418.631676  27  SC25\n",
       "1707  47367.686482  28  SC25\n",
       "1708  47316.741287  29  SC25\n",
       "1709  47265.796093  30  SC25\n",
       "\n",
       "[1710 rows x 3 columns]"
      ]
     },
     "execution_count": 10,
     "metadata": {},
     "output_type": "execute_result"
    }
   ],
   "source": [
    "result"
   ]
  }
 ],
 "metadata": {
  "kernelspec": {
   "display_name": "Python 3 (Bundle)",
   "language": "python",
   "name": "pyb"
  },
  "language_info": {
   "codemirror_mode": {
    "name": "ipython",
    "version": 3
   },
   "file_extension": ".py",
   "mimetype": "text/x-python",
   "name": "python",
   "nbconvert_exporter": "python",
   "pygments_lexer": "ipython3",
   "version": "3.8.10"
  }
 },
 "nbformat": 4,
 "nbformat_minor": 5
}
