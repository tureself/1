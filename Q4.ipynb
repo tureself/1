{
 "cells": [
  {
   "cell_type": "code",
   "execution_count": 5,
   "id": "e756f166-f4c1-4bec-8f3c-252903285347",
   "metadata": {},
   "outputs": [],
   "source": [
    "import pandas as pd\n",
    "import numpy as np\n",
    "\n",
    "# 加载数据\n",
    "data = pd.read_excel(\"Q2_未来30天各分拣中心每小时预测货量数据_方法2.xlsx\")\n",
    "\n"
   ]
  },
  {
   "cell_type": "code",
   "execution_count": 6,
   "id": "76b5b262-6234-46e0-b99c-bb68c0a21bd7",
   "metadata": {},
   "outputs": [],
   "source": [
    "import pandas as pd\n",
    "import numpy as np\n",
    "from pulp import LpProblem, LpMinimize, LpVariable, lpSum, LpBinary, LpInteger\n",
    "\n",
    "\n",
    "# 筛选出SC60分拣中心的数据\n",
    "sc60_data = data[data['分拣中心'] == 'SC60']\n",
    "\n",
    "# 定义班次时间范围\n",
    "shifts = {\n",
    "    \"00:00-08:00\": range(0, 8),\n",
    "    \"05:00-13:00\": range(5, 13),\n",
    "    \"08:00-16:00\": range(8, 16),\n",
    "    \"12:00-20:00\": range(12, 20),\n",
    "    \"14:00-22:00\": range(14, 22),\n",
    "    \"16:00-24:00\": range(16, 24)\n",
    "}\n",
    "\n",
    "# 按日期和班次整理每小时数据\n",
    "shift_data = {}\n",
    "for shift, hours in shifts.items():\n",
    "    mask = sc60_data['小时'].isin(hours)\n",
    "    grouped = sc60_data.loc[mask].groupby('日期')['预测每小时货量'].sum()\n",
    "    shift_data[shift] = grouped\n",
    "\n",
    "# 初始化模型\n",
    "model = LpProblem(\"Staff_Scheduling_SC60\", LpMinimize)\n",
    "\n",
    "# 定义变量\n",
    "workers = range(1, 201)\n",
    "dates = sc60_data['日期'].unique()\n",
    "x = LpVariable.dicts(\"Regular\", [(date, shift, worker) for date in dates for shift in shifts for worker in workers], 0, 1, LpBinary)\n",
    "y = LpVariable.dicts(\"Temp\", [(date, shift) for date in dates for shift in shifts], 0, None, LpInteger)\n",
    "\n",
    "# 目标函数\n",
    "model += lpSum(y.values())\n",
    "\n",
    "# 添加约束\n",
    "for shift, demands in shift_data.items():\n",
    "    for date, demand in demands.items():\n",
    "        model += (lpSum(25 * x[(date, shift, worker)] for worker in workers) + 20 * y[(date, shift)] >= demand, f\"Cargo_Requirement_{date}_{shift}\")\n",
    "\n",
    "# 正式工出勤天数约束\n",
    "for worker in workers:\n",
    "    model += lpSum(x[(date, shift, worker)] for date in dates for shift in shifts) <= 0.85 * len(dates), f\"Max_Work_{worker}\"\n",
    "\n",
    "# 正式工每天只能安排一个班次\n",
    "for worker in workers:\n",
    "    for date in dates:\n",
    "        model += lpSum(x[(date, shift, worker)] for shift in shifts) <= 1, f\"One_Shift_Per_Day_{worker}_{date}\"\n",
    "\n"
   ]
  },
  {
   "cell_type": "code",
   "execution_count": null,
   "id": "0385d939-e608-4984-8a10-ed7564deec71",
   "metadata": {},
   "outputs": [],
   "source": [
    "# 求解模型\n",
    "model.solve()\n",
    "\n",
    "\n"
   ]
  },
  {
   "cell_type": "code",
   "execution_count": null,
   "id": "30596137-9238-4948-83e8-1e006b627088",
   "metadata": {},
   "outputs": [],
   "source": [
    "# 创建和填充结果DataFrame\n",
    "results_df = pd.DataFrame([\n",
    "    {'分拣中心': 'SC60', '日期': date, '班次': shift, '出勤员工': f'正式工{worker}'}\n",
    "    for date in dates for shift in shifts for worker in workers if x[(date, shift, worker)].varValue == 1\n",
    "] + [\n",
    "    {'分拣中心': 'SC60', '日期': date, '班次': shift, '出勤员工': f'临时工{int(y[(date, shift)].varValue)}人'}\n",
    "    for date in dates for shift in shifts if y[(date, shift)].varValue > 0\n",
    "])\n",
    "\n",
    "# 显示部分结果\n",
    "results_df.head(20)"
   ]
  },
  {
   "cell_type": "code",
   "execution_count": null,
   "id": "31b2625e-4296-44be-b6a2-29648d189c99",
   "metadata": {},
   "outputs": [],
   "source": [
    "import pandas as pd\n",
    "\n",
    "# 创建空的DataFrame用于存储输出结果\n",
    "columns = ['分拣中心', '日期', '班次', '出勤员工']\n",
    "results_df = pd.DataFrame(columns=columns)\n",
    "\n",
    "# 遍历结果，填充DataFrame\n",
    "for date in range(1, 31):\n",
    "    for shift in shifts:\n",
    "        # 添加正式工的出勤记录\n",
    "        for worker in range(1, 201):\n",
    "            if x[(date, shift, worker)].varValue == 1:\n",
    "                results_df = results_df.append({\n",
    "                    '分拣中心': 'SC60',\n",
    "                    '日期': f\"2023-12-{date:02d}\",\n",
    "                    '班次': shift,\n",
    "                    '出勤员工': f'正式工{worker}'\n",
    "                }, ignore_index=True)\n",
    "        # 添加临时工的需要数量\n",
    "        temp_workers = y[(date, shift)].varValue\n",
    "        if temp_workers > 0:\n",
    "            results_df = results_df.append({\n",
    "                '分拣中心': 'SC60',\n",
    "                '日期': f\"2023-12-{date:02d}\",\n",
    "                '班次': shift,\n",
    "                '出勤员工': f'临时工{int(temp_workers)}人'\n",
    "            }, ignore_index=True)\n",
    "\n",
    "# 显示结果\n",
    "results_df.head(20)\n",
    "\n",
    "\n"
   ]
  },
  {
   "cell_type": "code",
   "execution_count": null,
   "id": "3a723ff0-6851-439f-a310-dfceebdebe6e",
   "metadata": {},
   "outputs": [],
   "source": [
    "# 可以选择输出到CSV文件中\n",
    "results_df.to_csv(\"Q4_表6输出.csv\", index=False)"
   ]
  }
 ],
 "metadata": {
  "kernelspec": {
   "display_name": "Python 3 (Bundle)",
   "language": "python",
   "name": "pyb"
  },
  "language_info": {
   "codemirror_mode": {
    "name": "ipython",
    "version": 3
   },
   "file_extension": ".py",
   "mimetype": "text/x-python",
   "name": "python",
   "nbconvert_exporter": "python",
   "pygments_lexer": "ipython3",
   "version": "3.8.10"
  }
 },
 "nbformat": 4,
 "nbformat_minor": 5
}
